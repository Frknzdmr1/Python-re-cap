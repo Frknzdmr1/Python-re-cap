{
 "cells": [
  {
   "cell_type": "code",
   "execution_count": 1,
   "metadata": {},
   "outputs": [
    {
     "name": "stdout",
     "output_type": "stream",
     "text": [
      "hello world\n"
     ]
    }
   ],
   "source": [
    "print(\"hello world\")"
   ]
  },
  {
   "cell_type": "code",
   "execution_count": 2,
   "metadata": {},
   "outputs": [
    {
     "name": "stdout",
     "output_type": "stream",
     "text": [
      "safjs\n"
     ]
    }
   ],
   "source": [
    "print('safjs')"
   ]
  },
  {
   "cell_type": "code",
   "execution_count": 3,
   "metadata": {},
   "outputs": [
    {
     "name": "stdout",
     "output_type": "stream",
     "text": [
      "Marry Allison 33\n"
     ]
    }
   ],
   "source": [
    "thomas = 33\n",
    "marry = 'Marry Allison'\n",
    "mathPi = 3.14\n",
    "\n",
    "print(marry, thomas)"
   ]
  },
  {
   "cell_type": "code",
   "execution_count": 5,
   "metadata": {},
   "outputs": [
    {
     "name": "stdout",
     "output_type": "stream",
     "text": [
      "YOU CAN LEARN ALMOST EVERYTHING IN PRE-CLASS\n"
     ]
    }
   ],
   "source": [
    "text = 'tyou can learn almost everything in pre-classz'\n",
    "text = text.rstrip(\"z\").lstrip(\"t\").upper()\n",
    "print(text)"
   ]
  },
  {
   "cell_type": "code",
   "execution_count": 6,
   "metadata": {},
   "outputs": [
    {
     "name": "stdout",
     "output_type": "stream",
     "text": [
      "['h', 'a', 'p', 'p', 'y'] ['h', 'a', 'p', 'p', 'y'] ['happy']\n"
     ]
    }
   ],
   "source": [
    "text =  \"happy\"\n",
    "list1 = ['h','a', 'p', 'p', 'y']\n",
    "list2 = list(text)\n",
    "list3 = [text]\n",
    "print(list1, list2, list3)"
   ]
  },
  {
   "cell_type": "code",
   "execution_count": 8,
   "metadata": {},
   "outputs": [
    {
     "data": {
      "text/plain": [
       "['one', 'two', 'three']"
      ]
     },
     "execution_count": 8,
     "metadata": {},
     "output_type": "execute_result"
    }
   ],
   "source": [
    "arr = [1, [1, 'one', 2, 'two', 3, 'three']]\n",
    "arr[1][1::2]"
   ]
  },
  {
   "cell_type": "code",
   "execution_count": 10,
   "metadata": {},
   "outputs": [
    {
     "name": "stdout",
     "output_type": "stream",
     "text": [
      "<class 'str'>\n",
      "<class 'tuple'>\n"
     ]
    }
   ],
   "source": [
    "x = ('hello')\n",
    "print(type(x))\n",
    "\n",
    "x = ('hello',)\n",
    "print(type(x))"
   ]
  },
  {
   "cell_type": "code",
   "execution_count": 11,
   "metadata": {},
   "outputs": [
    {
     "data": {
      "text/plain": [
       "tuple"
      ]
     },
     "execution_count": 11,
     "metadata": {},
     "output_type": "execute_result"
    }
   ],
   "source": [
    "tp = \"one\", \"two\", 'three'\n",
    "type(tp)"
   ]
  },
  {
   "cell_type": "code",
   "execution_count": 3,
   "metadata": {},
   "outputs": [
    {
     "name": "stdout",
     "output_type": "stream",
     "text": [
      "4.0 is the greatest\n"
     ]
    }
   ],
   "source": [
    "number1 = float(input(\"number1 : \"))\n",
    "number2 = float(input(\"number2 : \"))\n",
    "number3 = float(input(\"number3 : \"))\n",
    "\n",
    "if number1 > number2 and number1 > number3:\n",
    "    print(number1, \"is the gretest\")\n",
    "\n",
    "elif number2 > number1 and number2 > number3:\n",
    "    print(number2, \"is the gretest\")\n",
    "\n",
    "else:\n",
    "    print(number3,\"is the greatest\")"
   ]
  },
  {
   "cell_type": "code",
   "execution_count": null,
   "metadata": {},
   "outputs": [],
   "source": [
    "a = 22\n",
    "if a.isdigit():\n",
    "    print(int(a))\n",
    "else:\n",
    "    print('not a number')"
   ]
  },
  {
   "cell_type": "code",
   "execution_count": 4,
   "metadata": {},
   "outputs": [
    {
     "name": "stdout",
     "output_type": "stream",
     "text": [
      "45\n"
     ]
    }
   ],
   "source": [
    "a = input(\"enter a number\")\n",
    "while not a.isdigit():\n",
    "    a= input(\"please enter a valid number\")\n",
    "print(int(a))\n"
   ]
  },
  {
   "cell_type": "code",
   "execution_count": 6,
   "metadata": {},
   "outputs": [
    {
     "name": "stdout",
     "output_type": "stream",
     "text": [
      "c-l-a-r-u-s-w-a-y\n"
     ]
    }
   ],
   "source": [
    "input = \"clarusway\" \n",
    "solution = ''\n",
    "\n",
    "for i in input:\n",
    "    solution += i.lower() + '-'\n",
    "\n",
    "solution = solution.rstrip('-')\n",
    "print(solution)\n",
    "\n",
    "string = \"clarusway\"\n",
    "print('-'.join(string))"
   ]
  },
  {
   "cell_type": "code",
   "execution_count": 9,
   "metadata": {},
   "outputs": [
    {
     "ename": "TypeError",
     "evalue": "'str' object is not callable",
     "output_type": "error",
     "traceback": [
      "\u001b[1;31m---------------------------------------------------------------------------\u001b[0m",
      "\u001b[1;31mTypeError\u001b[0m                                 Traceback (most recent call last)",
      "\u001b[1;32mc:\\Users\\asus\\OneDrive\\Desktop\\Python\\1.ipynb Cell 13\u001b[0m in \u001b[0;36m<cell line: 1>\u001b[1;34m()\u001b[0m\n\u001b[1;32m----> <a href='vscode-notebook-cell:/c%3A/Users/asus/OneDrive/Desktop/Python/1.ipynb#X15sZmlsZQ%3D%3D?line=0'>1</a>\u001b[0m num \u001b[39m=\u001b[39m \u001b[39mint\u001b[39m(\u001b[39minput\u001b[39;49m(\u001b[39m\"\u001b[39;49m\u001b[39menter a number\u001b[39;49m\u001b[39m\"\u001b[39;49m))\n\u001b[0;32m      <a href='vscode-notebook-cell:/c%3A/Users/asus/OneDrive/Desktop/Python/1.ipynb#X15sZmlsZQ%3D%3D?line=2'>3</a>\u001b[0m \u001b[39mfor\u001b[39;00m i \u001b[39min\u001b[39;00m \u001b[39mrange\u001b[39m(\u001b[39m0\u001b[39m,\u001b[39m11\u001b[39m):\n\u001b[0;32m      <a href='vscode-notebook-cell:/c%3A/Users/asus/OneDrive/Desktop/Python/1.ipynb#X15sZmlsZQ%3D%3D?line=3'>4</a>\u001b[0m     \u001b[39mprint\u001b[39m(\u001b[39mf\u001b[39m\u001b[39m\"\u001b[39m\u001b[39m{\u001b[39;00mnum\u001b[39m}\u001b[39;00m\u001b[39m * \u001b[39m\u001b[39m{\u001b[39;00mi\u001b[39m}\u001b[39;00m\u001b[39m = \u001b[39m\u001b[39m{\u001b[39;00mnum\u001b[39m*\u001b[39mi\u001b[39m}\u001b[39;00m\u001b[39m\"\u001b[39m)\n",
      "\u001b[1;31mTypeError\u001b[0m: 'str' object is not callable"
     ]
    }
   ],
   "source": [
    "num = int(input(\"enter a number\"))\n",
    "\n",
    "for i in range(0,11):\n",
    "    print(f\"{num} * {i} = {num*i}\")"
   ]
  },
  {
   "cell_type": "code",
   "execution_count": 13,
   "metadata": {},
   "outputs": [
    {
     "ename": "IndentationError",
     "evalue": "expected an indented block after 'if' statement on line 4 (258798804.py, line 5)",
     "output_type": "error",
     "traceback": [
      "\u001b[1;36m  Input \u001b[1;32mIn [13]\u001b[1;36m\u001b[0m\n\u001b[1;33m    print('even')\u001b[0m\n\u001b[1;37m    ^\u001b[0m\n\u001b[1;31mIndentationError\u001b[0m\u001b[1;31m:\u001b[0m expected an indented block after 'if' statement on line 4\n"
     ]
    }
   ],
   "source": [
    "num1 = 1,2,3,4,5,6,7,8\n",
    "\n",
    "for i in range(0,11):\n",
    "    if i % 2 == 0:\n",
    "    print('even') \n",
    "    \n",
    "    else: \n",
    "    print('odd')\n",
    "\n",
    "\n",
    "    numbers = range(1,11)\n",
    "evens = []\n",
    "odds = []\n",
    "for i in numbers:\n",
    "    if i%2 == 0:\n",
    "        evens.append(i)\n",
    "    else:\n",
    "        odds.append(i)\n",
    "print(evens)\n",
    "print(odds)"
   ]
  },
  {
   "cell_type": "code",
   "execution_count": 17,
   "metadata": {},
   "outputs": [
    {
     "name": "stdout",
     "output_type": "stream",
     "text": [
      "[66, 55, 33, 5, 99, 11, 22, 48]\n"
     ]
    }
   ],
   "source": [
    "arr = [55, 22, 33, 11, 66, 5, 99, 48]\n",
    "arr1 = []\n",
    "\n",
    "for i, ii in enumerate(arr):\n",
    "    for j, jj in enumerate(arr[i+1:]):\n",
    "        if ii > jj:\n",
    "            temp = arr[i]\n",
    "            arr[i] = arr[j]\n",
    "            arr[j] = temp\n",
    "\n",
    "\n",
    "print(arr)"
   ]
  },
  {
   "cell_type": "code",
   "execution_count": 19,
   "metadata": {},
   "outputs": [
    {
     "name": "stdout",
     "output_type": "stream",
     "text": [
      "[5, 11, 22, 33, 48, 55, 66, 99]\n"
     ]
    }
   ],
   "source": [
    "arr = [55, 22, 33, 11, 66, 5, 99, 48]\n",
    "\n",
    "for i in range(len(arr)):\n",
    "    for j in range(i+1, len(arr)):\n",
    "        if arr[i] > arr[j]:\n",
    "            arr[i], arr[j] = arr[j], arr[i]\n",
    "            #temp = arr[i]\n",
    "            #arr[i] = arr[j]\n",
    "            #arr[j] = temp\n",
    "print(arr)"
   ]
  },
  {
   "cell_type": "code",
   "execution_count": 2,
   "metadata": {},
   "outputs": [
    {
     "name": "stdout",
     "output_type": "stream",
     "text": [
      "455.0 is the greatest\n"
     ]
    }
   ],
   "source": [
    "#Check the greatest number\n",
    "\n",
    "number1 =float(input(\"Number : \"))\n",
    "number2 =float(input(\"Number : \"))\n",
    "number3 =float(input(\"Number : \"))\n",
    "\n",
    "if number1 > number2 and number1 > number3:\n",
    "    print(number1, \"is the greatest\")\n",
    "elif number2 > number1 and number2 > number3:\n",
    "    print(number2, \"is the greatest\")\n",
    "else:\n",
    "    print(number3,\"is the greatest\")"
   ]
  },
  {
   "cell_type": "code",
   "execution_count": 6,
   "metadata": {},
   "outputs": [
    {
     "name": "stdout",
     "output_type": "stream",
     "text": [
      "negativ\n"
     ]
    }
   ],
   "source": [
    "# check if a number is negativ, positiv or zero\n",
    "\n",
    "num = int(input(\"number\"))\n",
    "\n",
    "if num > 0:\n",
    "    print(\"positiv\")\n",
    "elif num < 0:\n",
    "    print(\"negativ\")\n",
    "else:\n",
    "    print(\"zero\")"
   ]
  },
  {
   "cell_type": "code",
   "execution_count": 12,
   "metadata": {},
   "outputs": [
    {
     "name": "stdout",
     "output_type": "stream",
     "text": [
      "square of 0 is: 0\n",
      "square of 1 is: 2\n",
      "square of 2 is: 4\n",
      "square of 3 is: 6\n",
      "square of 4 is: 8\n"
     ]
    }
   ],
   "source": [
    "# While loop \n",
    "\n",
    "my_list = [\"a\", \"b\", \"c\", \"d\", \"e\"]\n",
    "\n",
    "x = 0\n",
    "\n",
    "while x < len(my_list):\n",
    "    print(\"square of {} is: {}\".format(x, x*2))\n",
    "    x+=1"
   ]
  },
  {
   "cell_type": "code",
   "execution_count": 3,
   "metadata": {},
   "outputs": [
    {
     "name": "stdout",
     "output_type": "stream",
     "text": [
      "is a number\n",
      "2\n",
      "not a number\n"
     ]
    }
   ],
   "source": [
    "#Check if number or not \n",
    "\n",
    "num = input(\"enter a number\")\n",
    "\n",
    "if num.isdigit():\n",
    "    print(\"is a number\")\n",
    "else:\n",
    "    print(\"not a number\")\n",
    "\n",
    "# with while loop\n",
    "\n",
    "a = input(\"please enter a number\")\n",
    "\n",
    "while not a.isdigit():\n",
    "    a = input(\"please enter a valid number\")\n",
    "    print(int(a))\n",
    "else:\n",
    "    print(\"not a number\")\n"
   ]
  },
  {
   "cell_type": "code",
   "execution_count": 4,
   "metadata": {},
   "outputs": [
    {
     "name": "stdout",
     "output_type": "stream",
     "text": [
      "the longest word is 8\n"
     ]
    }
   ],
   "source": [
    "# the length of the longest word\n",
    "\n",
    "sentence = input(\"enter a sentence\")\n",
    "\n",
    "words = sentence.split()\n",
    "i = 0\n",
    "longest = 0 \n",
    "\n",
    "while i < len(words) :\n",
    "    if len(words[i]) > longest:\n",
    "        longest = len(words[i])\n",
    "    i+=1\n",
    "print(\"the longest word is\", longest)"
   ]
  },
  {
   "cell_type": "code",
   "execution_count": null,
   "metadata": {},
   "outputs": [],
   "source": []
  }
 ],
 "metadata": {
  "kernelspec": {
   "display_name": "Python 3.10.5 64-bit",
   "language": "python",
   "name": "python3"
  },
  "language_info": {
   "codemirror_mode": {
    "name": "ipython",
    "version": 3
   },
   "file_extension": ".py",
   "mimetype": "text/x-python",
   "name": "python",
   "nbconvert_exporter": "python",
   "pygments_lexer": "ipython3",
   "version": "3.10.5"
  },
  "orig_nbformat": 4,
  "vscode": {
   "interpreter": {
    "hash": "876db7d3f8682b7e4c5477e5f1e2dc2bd1b19fe05d9aabd59218369070754b39"
   }
  }
 },
 "nbformat": 4,
 "nbformat_minor": 2
}
